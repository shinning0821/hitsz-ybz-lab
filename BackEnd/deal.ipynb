{
 "cells": [
  {
   "cell_type": "code",
   "execution_count": 4,
   "metadata": {},
   "outputs": [],
   "source": [
    "from PIL import Image\n",
    "\n",
    "def downsample_image(image_path, scale):\n",
    "    # 打开图片\n",
    "    image = Image.open(image_path)\n",
    "    \n",
    "    # 计算新的尺寸\n",
    "    width, height = image.size\n",
    "    new_width = int(width * scale)\n",
    "    new_height = int(height * scale)\n",
    "    \n",
    "    # 下采样\n",
    "    new_image = image.resize((new_width, new_height))\n",
    "    \n",
    "    # 保存图片\n",
    "    new_image.save('assets\\img\\output_exmple.png')\n",
    "\n",
    "# 调用函数进行下采样\n",
    "downsample_image('assets\\img\\output_exmple.png', 0.75)"
   ]
  }
 ],
 "metadata": {
  "kernelspec": {
   "display_name": "Python 3.8.8 ('base')",
   "language": "python",
   "name": "python3"
  },
  "language_info": {
   "codemirror_mode": {
    "name": "ipython",
    "version": 3
   },
   "file_extension": ".py",
   "mimetype": "text/x-python",
   "name": "python",
   "nbconvert_exporter": "python",
   "pygments_lexer": "ipython3",
   "version": "3.8.8"
  },
  "orig_nbformat": 4,
  "vscode": {
   "interpreter": {
    "hash": "58af28c848af710620f7d86e7436dee88478910feeb564742e3548cf92ff8cf8"
   }
  }
 },
 "nbformat": 4,
 "nbformat_minor": 2
}
